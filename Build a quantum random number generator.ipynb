{
 "cells": [
  {
   "cell_type": "markdown",
   "id": "7e9309b8",
   "metadata": {},
   "source": [
    "# Quantum Random Generator"
   ]
  },
  {
   "cell_type": "code",
   "execution_count": 14,
   "id": "af2c3ef7",
   "metadata": {},
   "outputs": [],
   "source": [
    "import qiskit "
   ]
  },
  {
   "cell_type": "code",
   "execution_count": 18,
   "id": "c35e6f23",
   "metadata": {},
   "outputs": [
    {
     "name": "stdout",
     "output_type": "stream",
     "text": [
      "[0, 1, 1, 1, 1, 0, 1, 0, 0, 1]\n"
     ]
    }
   ],
   "source": [
    "# Imports the QuantumCircuit from quiskit library that represents a quantum circuit. \n",
    "\n",
    "from qiskit import QuantumCircuit, QuantumRegister, ClassicalRegister, Aer, execute\n",
    "\n",
    "def quantum_random_number_generator():\n",
    "    \n",
    "    # Create a quantum register.\n",
    "    qreg = QuantumRegister(1)\n",
    "    \n",
    "    # Create a classical register.\n",
    "    creg = ClassicalRegister(1)\n",
    "\n",
    "    # Create a new circuit with the quantum and classical registers.\n",
    "    circuit = QuantumCircuit(qreg, creg)\n",
    "\n",
    "    # Initialize the qubit in the |0> state.\n",
    "    circuit.reset(qreg[0])\n",
    "\n",
    "    # Initialize the qubit in the superposition state |0>+|1>.\n",
    "    circuit.h(qreg[0])\n",
    "\n",
    "    # Measure the qubit and store the result in the classical register.\n",
    "    circuit.measure(qreg[0], creg[0])\n",
    "\n",
    "    # Execute the circuit and get the measurement result.\n",
    "    backend = Aer.get_backend('qasm_simulator')\n",
    "    job = execute(circuit, backend, shots=1)\n",
    "    result = job.result()\n",
    "    counts = result.get_counts(circuit)\n",
    "    measurement_result = int(list(counts.keys())[0])  # Convert the result to an integer\n",
    "\n",
    "    # Return the measurement result as a random number.\n",
    "    return measurement_result\n",
    "\n",
    "if __name__ == \"__main__\":\n",
    "    # Generate 10 random numbers.\n",
    "    random_numbers = []\n",
    "    for _ in range(10):\n",
    "        random_numbers.append(quantum_random_number_generator())\n",
    "\n",
    "    # Print the random numbers.\n",
    "    print(random_numbers)\n"
   ]
  }
 ],
 "metadata": {
  "kernelspec": {
   "display_name": "Python 3 (ipykernel)",
   "language": "python",
   "name": "python3"
  },
  "language_info": {
   "codemirror_mode": {
    "name": "ipython",
    "version": 3
   },
   "file_extension": ".py",
   "mimetype": "text/x-python",
   "name": "python",
   "nbconvert_exporter": "python",
   "pygments_lexer": "ipython3",
   "version": "3.9.13"
  }
 },
 "nbformat": 4,
 "nbformat_minor": 5
}
